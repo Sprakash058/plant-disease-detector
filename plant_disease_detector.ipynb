{
  "nbformat": 4,
  "nbformat_minor": 0,
  "metadata": {
    "colab": {
      "provenance": [],
      "authorship_tag": "ABX9TyM1TvWoEaIS0tjFjpVTYbpR",
      "include_colab_link": true
    },
    "kernelspec": {
      "name": "python3",
      "display_name": "Python 3"
    },
    "language_info": {
      "name": "python"
    }
  },
  "cells": [
    {
      "cell_type": "markdown",
      "metadata": {
        "id": "view-in-github",
        "colab_type": "text"
      },
      "source": [
        "<a href=\"https://colab.research.google.com/github/Sprakash058/plant-disease-detector/blob/main/plant_disease_detector.ipynb\" target=\"_parent\"><img src=\"https://colab.research.google.com/assets/colab-badge.svg\" alt=\"Open In Colab\"/></a>"
      ]
    },
    {
      "cell_type": "code",
      "execution_count": null,
      "metadata": {
        "id": "NyUMDzfyzPbM"
      },
      "outputs": [],
      "source": [
        "import numpy as np\n",
        "import pandas as pd\n",
        "import cv2\n",
        "import os\n",
        "import tensorflow as tf\n",
        "from sklearn.model_selection import train_test_split\n",
        "from keras.models import Sequential, load_model\n",
        "from keras.layers import Conv2D, MaxPool2D, Dense, Flatten, Dropout\n",
        "from sklearn.metrics import accuracy_score, confusion_matrix, classification_report"
      ]
    },
    {
      "cell_type": "code",
      "source": [
        "from google.colab import drive\n",
        "drive.mount('/gdrive')"
      ],
      "metadata": {
        "colab": {
          "base_uri": "https://localhost:8080/"
        },
        "id": "6VaSFebxBWdi",
        "outputId": "0d7bf15a-c82f-4904-adf0-72169fc4fad4"
      },
      "execution_count": null,
      "outputs": [
        {
          "output_type": "stream",
          "name": "stdout",
          "text": [
            "Drive already mounted at /gdrive; to attempt to forcibly remount, call drive.mount(\"/gdrive\", force_remount=True).\n"
          ]
        }
      ]
    },
    {
      "cell_type": "code",
      "source": [
        "train_labels = os.listdir('/gdrive/My Drive/train')\n",
        "train_labels"
      ],
      "metadata": {
        "id": "t67mx8247OSg",
        "colab": {
          "base_uri": "https://localhost:8080/"
        },
        "outputId": "af2e7b2a-f2d5-424b-b736-f8d642059980"
      },
      "execution_count": null,
      "outputs": [
        {
          "output_type": "execute_result",
          "data": {
            "text/plain": [
              "['healthy', 'diseased']"
            ]
          },
          "metadata": {},
          "execution_count": 3
        }
      ]
    },
    {
      "cell_type": "code",
      "source": [
        "data = []\n",
        "labels = []\n",
        "\n",
        "for i in range(len(train_labels)):\n",
        "    dir = os.path.join('/gdrive/My Drive/train', train_labels[i])\n",
        "    images = os.listdir(dir)\n",
        "\n",
        "    for x in range(len(images)):\n",
        "        image = cv2.imread(dir + \"/\" + str(x+1) + \".jpg\")\n",
        "        image = cv2.resize(image, (500,500))\n",
        "        image = np.array(image)\n",
        "        data.append(image)\n",
        "        labels.append(i)"
      ],
      "metadata": {
        "id": "KvRnBmskEaCS"
      },
      "execution_count": null,
      "outputs": []
    },
    {
      "cell_type": "code",
      "source": [
        "data = np.array(data)\n",
        "labels = np.array(labels)\n",
        "\n",
        "data.shape, labels.shape"
      ],
      "metadata": {
        "id": "C0bBvLuPElJS",
        "colab": {
          "base_uri": "https://localhost:8080/"
        },
        "outputId": "a44503de-a913-47af-a5d2-af560647fb01"
      },
      "execution_count": null,
      "outputs": [
        {
          "output_type": "execute_result",
          "data": {
            "text/plain": [
              "((1709, 500, 500, 3), (1709,))"
            ]
          },
          "metadata": {},
          "execution_count": 5
        }
      ]
    },
    {
      "cell_type": "code",
      "source": [
        "#Splitting training and validation dataset\n",
        "X_t, X_test, y_t, y_test = train_test_split(data, labels, test_size=0.2, random_state=42)\n",
        "X_train, X_val, y_train, y_val = train_test_split(X_t, y_t, test_size=0.2, random_state=42)\n",
        "\n",
        "X_train.shape, X_test.shape, X_val.shape, y_train.shape, y_test.shape, y_val.shape"
      ],
      "metadata": {
        "id": "McLsmn1ZEvWh",
        "colab": {
          "base_uri": "https://localhost:8080/"
        },
        "outputId": "56170879-fc08-474e-c15b-288fab63fba1"
      },
      "execution_count": null,
      "outputs": [
        {
          "output_type": "execute_result",
          "data": {
            "text/plain": [
              "((1093, 500, 500, 3),\n",
              " (342, 500, 500, 3),\n",
              " (274, 500, 500, 3),\n",
              " (1093,),\n",
              " (342,),\n",
              " (274,))"
            ]
          },
          "metadata": {},
          "execution_count": 7
        }
      ]
    },
    {
      "cell_type": "code",
      "source": [
        "model = Sequential([\n",
        "    Conv2D(filters=32, kernel_size=(3,3), activation='relu', input_shape=X_train.shape[1:]),\n",
        "    MaxPool2D(pool_size=(3, 3)),\n",
        "\n",
        "    Conv2D(filters=64, kernel_size=(3,3), activation='relu'),\n",
        "    MaxPool2D(pool_size=(3, 3)),\n",
        "\n",
        "    Conv2D(filters=128, kernel_size=(3,3), activation='relu'),\n",
        "    MaxPool2D(pool_size=(3, 3)),\n",
        "\n",
        "    Conv2D(filters=32, kernel_size=(3,3), activation='relu'),\n",
        "    MaxPool2D(pool_size=(3, 3)),\n",
        "\n",
        "    Conv2D(filters=64, kernel_size=(3,3), activation='relu'),\n",
        "    MaxPool2D(pool_size=(3, 3)),\n",
        "\n",
        "    Flatten(),\n",
        "\n",
        "    Dense(1024, activation='relu'),\n",
        "    Dropout(rate=0.8),\n",
        "\n",
        "    Dense(1, activation='sigmoid')\n",
        "])\n",
        "\n",
        "model.compile(loss='binary_crossentropy', optimizer='adam', metrics=['accuracy'])"
      ],
      "metadata": {
        "id": "TXc2v9TWE5kW"
      },
      "execution_count": null,
      "outputs": []
    },
    {
      "cell_type": "code",
      "source": [
        "model.fit(X_train, y_train, batch_size=40, epochs=8, validation_data=(X_val, y_val))"
      ],
      "metadata": {
        "colab": {
          "base_uri": "https://localhost:8080/"
        },
        "id": "Pq3GROkSdWL4",
        "outputId": "9243ad52-9165-4122-9959-1397db2254cf"
      },
      "execution_count": null,
      "outputs": [
        {
          "output_type": "stream",
          "name": "stdout",
          "text": [
            "Epoch 1/8\n",
            "28/28 [==============================] - 350s 12s/step - loss: 0.7884 - accuracy: 0.6020 - val_loss: 0.4755 - val_accuracy: 0.7774\n",
            "Epoch 2/8\n",
            "28/28 [==============================] - 343s 12s/step - loss: 0.4664 - accuracy: 0.8253 - val_loss: 0.4469 - val_accuracy: 0.8285\n",
            "Epoch 3/8\n",
            "28/28 [==============================] - 343s 12s/step - loss: 0.3774 - accuracy: 0.8481 - val_loss: 0.4840 - val_accuracy: 0.7847\n",
            "Epoch 4/8\n",
            "28/28 [==============================] - 340s 12s/step - loss: 0.3459 - accuracy: 0.8591 - val_loss: 0.2967 - val_accuracy: 0.8686\n",
            "Epoch 5/8\n",
            "28/28 [==============================] - 339s 12s/step - loss: 0.3161 - accuracy: 0.8664 - val_loss: 0.4287 - val_accuracy: 0.8431\n",
            "Epoch 6/8\n",
            "28/28 [==============================] - 336s 12s/step - loss: 0.2586 - accuracy: 0.8957 - val_loss: 0.3428 - val_accuracy: 0.8686\n",
            "Epoch 7/8\n",
            "28/28 [==============================] - 337s 12s/step - loss: 0.2455 - accuracy: 0.9012 - val_loss: 0.4019 - val_accuracy: 0.8467\n",
            "Epoch 8/8\n",
            "28/28 [==============================] - 336s 12s/step - loss: 0.2453 - accuracy: 0.9003 - val_loss: 0.1627 - val_accuracy: 0.9343\n"
          ]
        },
        {
          "output_type": "execute_result",
          "data": {
            "text/plain": [
              "<keras.src.callbacks.History at 0x7d3e2017acb0>"
            ]
          },
          "metadata": {},
          "execution_count": 10
        }
      ]
    },
    {
      "cell_type": "code",
      "source": [
        "model.summary()"
      ],
      "metadata": {
        "colab": {
          "base_uri": "https://localhost:8080/"
        },
        "id": "FJXZ3vMTlKEg",
        "outputId": "b1c0bc4f-5807-4a4d-a0ed-4f74fd08bf24"
      },
      "execution_count": null,
      "outputs": [
        {
          "output_type": "stream",
          "name": "stdout",
          "text": [
            "Model: \"sequential\"\n",
            "_________________________________________________________________\n",
            " Layer (type)                Output Shape              Param #   \n",
            "=================================================================\n",
            " conv2d (Conv2D)             (None, 498, 498, 32)      896       \n",
            "                                                                 \n",
            " max_pooling2d (MaxPooling2  (None, 166, 166, 32)      0         \n",
            " D)                                                              \n",
            "                                                                 \n",
            " conv2d_1 (Conv2D)           (None, 164, 164, 64)      18496     \n",
            "                                                                 \n",
            " max_pooling2d_1 (MaxPoolin  (None, 54, 54, 64)        0         \n",
            " g2D)                                                            \n",
            "                                                                 \n",
            " conv2d_2 (Conv2D)           (None, 52, 52, 128)       73856     \n",
            "                                                                 \n",
            " max_pooling2d_2 (MaxPoolin  (None, 17, 17, 128)       0         \n",
            " g2D)                                                            \n",
            "                                                                 \n",
            " conv2d_3 (Conv2D)           (None, 15, 15, 32)        36896     \n",
            "                                                                 \n",
            " max_pooling2d_3 (MaxPoolin  (None, 5, 5, 32)          0         \n",
            " g2D)                                                            \n",
            "                                                                 \n",
            " conv2d_4 (Conv2D)           (None, 3, 3, 64)          18496     \n",
            "                                                                 \n",
            " max_pooling2d_4 (MaxPoolin  (None, 1, 1, 64)          0         \n",
            " g2D)                                                            \n",
            "                                                                 \n",
            " flatten (Flatten)           (None, 64)                0         \n",
            "                                                                 \n",
            " dense (Dense)               (None, 1024)              66560     \n",
            "                                                                 \n",
            " dropout (Dropout)           (None, 1024)              0         \n",
            "                                                                 \n",
            " dense_1 (Dense)             (None, 1)                 1025      \n",
            "                                                                 \n",
            "=================================================================\n",
            "Total params: 216225 (844.63 KB)\n",
            "Trainable params: 216225 (844.63 KB)\n",
            "Non-trainable params: 0 (0.00 Byte)\n",
            "_________________________________________________________________\n"
          ]
        }
      ]
    },
    {
      "cell_type": "code",
      "source": [
        "model.save(\"plant.h5\")"
      ],
      "metadata": {
        "colab": {
          "base_uri": "https://localhost:8080/"
        },
        "id": "z2UIhuMDHry8",
        "outputId": "5f940b5d-a329-444f-992e-5bb3c1815040"
      },
      "execution_count": null,
      "outputs": [
        {
          "output_type": "stream",
          "name": "stderr",
          "text": [
            "/usr/local/lib/python3.10/dist-packages/keras/src/engine/training.py:3000: UserWarning: You are saving your model as an HDF5 file via `model.save()`. This file format is considered legacy. We recommend using instead the native Keras format, e.g. `model.save('my_model.keras')`.\n",
            "  saving_api.save_model(\n"
          ]
        }
      ]
    },
    {
      "cell_type": "code",
      "source": [
        "model.load_model(\"plant.h5\")"
      ],
      "metadata": {
        "id": "vGe8GqsgU17z"
      },
      "execution_count": null,
      "outputs": []
    },
    {
      "cell_type": "code",
      "source": [
        "pred = model.predict(X_test)\n",
        "pred = pred.round()"
      ],
      "metadata": {
        "colab": {
          "base_uri": "https://localhost:8080/"
        },
        "id": "bMAtuhJfV4Uj",
        "outputId": "aea8d1d9-e77c-45cf-e26b-19e26cdef555"
      },
      "execution_count": null,
      "outputs": [
        {
          "output_type": "stream",
          "name": "stdout",
          "text": [
            "11/11 [==============================] - 31s 3s/step\n"
          ]
        }
      ]
    },
    {
      "cell_type": "code",
      "source": [
        "accuracy_score(pred, y_test)"
      ],
      "metadata": {
        "colab": {
          "base_uri": "https://localhost:8080/"
        },
        "id": "6XDAHLrnWBAe",
        "outputId": "8173ff8d-5190-4656-84b6-5c931b8701d2"
      },
      "execution_count": null,
      "outputs": [
        {
          "output_type": "execute_result",
          "data": {
            "text/plain": [
              "0.9619883040935673"
            ]
          },
          "metadata": {},
          "execution_count": 30
        }
      ]
    },
    {
      "cell_type": "code",
      "source": [
        "confusion_matrix(y_test, pred)"
      ],
      "metadata": {
        "colab": {
          "base_uri": "https://localhost:8080/"
        },
        "id": "gw-J2CZfoQlK",
        "outputId": "46351d95-907b-436b-db01-2ee87992872c"
      },
      "execution_count": null,
      "outputs": [
        {
          "output_type": "execute_result",
          "data": {
            "text/plain": [
              "array([[180,   7],\n",
              "       [  6, 149]])"
            ]
          },
          "metadata": {},
          "execution_count": 35
        }
      ]
    },
    {
      "cell_type": "code",
      "source": [
        "print(classification_report(y_test, pred))"
      ],
      "metadata": {
        "colab": {
          "base_uri": "https://localhost:8080/"
        },
        "id": "YO3VUsC7oj5G",
        "outputId": "661287b6-53fc-47c6-82f3-e5a44294de94"
      },
      "execution_count": null,
      "outputs": [
        {
          "output_type": "stream",
          "name": "stdout",
          "text": [
            "              precision    recall  f1-score   support\n",
            "\n",
            "           0       0.97      0.96      0.97       187\n",
            "           1       0.96      0.96      0.96       155\n",
            "\n",
            "    accuracy                           0.96       342\n",
            "   macro avg       0.96      0.96      0.96       342\n",
            "weighted avg       0.96      0.96      0.96       342\n",
            "\n"
          ]
        }
      ]
    },
    {
      "cell_type": "code",
      "source": [
        "for i in range(10):\n",
        "    # Generate a random integer between 0 and len(X_test)-1\n",
        "    random_integer = tf.cast(tf.random.uniform(shape=(), minval=0, maxval=len(X_test)), tf.int32)\n",
        "    print('Actual - ' + train_labels[y_test[random_integer]] + ', Predicted - ' + train_labels[int(pred[random_integer])])"
      ],
      "metadata": {
        "colab": {
          "base_uri": "https://localhost:8080/"
        },
        "id": "PCSf8y1ymUMW",
        "outputId": "d3390f5c-1cc2-4d45-bb85-f10723cf6a1f"
      },
      "execution_count": null,
      "outputs": [
        {
          "output_type": "stream",
          "name": "stdout",
          "text": [
            "Actual - diseased, Predicted - diseased\n",
            "Actual - healthy, Predicted - healthy\n",
            "Actual - diseased, Predicted - diseased\n",
            "Actual - diseased, Predicted - diseased\n",
            "Actual - healthy, Predicted - healthy\n",
            "Actual - diseased, Predicted - diseased\n",
            "Actual - diseased, Predicted - diseased\n",
            "Actual - healthy, Predicted - healthy\n",
            "Actual - healthy, Predicted - healthy\n",
            "Actual - healthy, Predicted - healthy\n"
          ]
        }
      ]
    }
  ]
}